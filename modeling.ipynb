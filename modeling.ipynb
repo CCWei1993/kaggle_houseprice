{
 "cells": [
  {
   "cell_type": "code",
   "execution_count": 1,
   "metadata": {},
   "outputs": [],
   "source": [
    "import pandas as pd \n",
    "import matplotlib.pyplot as plt\n",
    "import numpy as np\n",
    "\n",
    "pd.set_option('max_columns',2000)\n",
    "pd.set_option('max_rows',2000)\n",
    "Train=pd.read_csv('train_cleaned.csv')\n",
    "Test=pd.read_csv('test_cleaned.csv')\n",
    "Id=Test['Id']\n",
    "Test=Test.drop(['Id'],axis=1)\n",
    "X=Train.drop(['SalePrice'],axis=1)\n",
    "y=Train['SalePrice']\n",
    "X=X.apply(lambda s: np.log(s+1))\n",
    "Test=Test.apply(lambda s: np.log(s+1))"
   ]
  },
  {
   "cell_type": "code",
   "execution_count": 2,
   "metadata": {},
   "outputs": [],
   "source": [
    "from sklearn.ensemble import RandomForestRegressor\n",
    "from sklearn.feature_selection import SelectFromModel\n",
    "from sklearn.tree import DecisionTreeRegressor\n",
    "\n",
    "tree_model=DecisionTreeRegressor()\n",
    "selector = SelectFromModel(tree_model , threshold =1e-12,prefit = False).fit(X, y)\n",
    "# print(selector.threshold_)\n",
    "# print(selector.estimator_)\n",
    "# print(DecisionTreeRegressor().fit(X, y).feature_importances_)\n",
    "X_red=selector.transform(X)\n",
    "Test_red=selector.transform(Test)\n"
   ]
  },
  {
   "cell_type": "code",
   "execution_count": 3,
   "metadata": {},
   "outputs": [
    {
     "data": {
      "text/plain": [
       "(1460, 145)"
      ]
     },
     "execution_count": 3,
     "metadata": {},
     "output_type": "execute_result"
    }
   ],
   "source": [
    "X_red.shape"
   ]
  },
  {
   "cell_type": "code",
   "execution_count": 16,
   "metadata": {
    "scrolled": false
   },
   "outputs": [
    {
     "name": "stdout",
     "output_type": "stream",
     "text": [
      "task:         [regression]\n",
      "metric:       [mean_absolute_error]\n",
      "variant:      [A]\n",
      "n_estimators: [7]\n",
      "\n",
      "estimator  0: [svr: SVR]\n",
      "    fold  0:  [54505.33074612]\n",
      "    fold  1:  [58904.99324510]\n",
      "    fold  2:  [57264.84703911]\n",
      "    fold  3:  [49063.67677693]\n",
      "    fold  4:  [54715.28214419]\n",
      "    ----\n",
      "    MEAN:     [54890.82599029] + [3343.19023897]\n",
      "\n",
      "estimator  1: [lin: LinearRegression]\n",
      "    fold  0:  [6468947388.29794502]\n",
      "    fold  1:  [539362495870973.56250000]\n",
      "    fold  2:  [6984241521.59032536]\n",
      "    fold  3:  [21534.45954623]\n",
      "    fold  4:  [24533.15132705]\n",
      "    ----\n",
      "    MEAN:     [107875189821190.20312500] + [215743653045925.65625000]\n",
      "\n",
      "estimator  2: [krr: KernelRidge]\n",
      "    fold  0:  [17273.39976528]\n",
      "    fold  1:  [20765.57114317]\n",
      "    fold  2:  [20775.05803095]\n",
      "    fold  3:  [18355.93743196]\n",
      "    fold  4:  [21286.33251479]\n",
      "    ----\n",
      "    MEAN:     [19691.25977723] + [1581.27501764]\n",
      "\n",
      "estimator  3: [EN: ElasticNet]\n",
      "    fold  0:  [26726.86951887]\n",
      "    fold  1:  [30760.45922693]\n",
      "    fold  2:  [29028.13917966]\n",
      "    fold  3:  [26887.74344738]\n",
      "    fold  4:  [32832.29806768]\n",
      "    ----\n",
      "    MEAN:     [29247.10188810] + [2328.51756255]\n",
      "\n",
      "estimator  4: [knr: KNeighborsRegressor]\n",
      "    fold  0:  [29255.47831050]\n",
      "    fold  1:  [34774.78767123]\n",
      "    fold  2:  [31781.88470320]\n",
      "    fold  3:  [29995.88812785]\n",
      "    fold  4:  [34182.48858447]\n",
      "    ----\n",
      "    MEAN:     [31998.10547945] + [2193.58715709]\n",
      "\n",
      "estimator  5: [xgbr: XGBRegressor]\n",
      "[11:51:36] WARNING: C:/Jenkins/workspace/xgboost-win64_release_0.90/src/objective/regression_obj.cu:152: reg:linear is now deprecated in favor of reg:squarederror.\n",
      "    fold  0:  [15503.82313517]\n",
      "[11:51:40] WARNING: C:/Jenkins/workspace/xgboost-win64_release_0.90/src/objective/regression_obj.cu:152: reg:linear is now deprecated in favor of reg:squarederror.\n",
      "    fold  1:  [17784.01389929]\n",
      "[11:51:43] WARNING: C:/Jenkins/workspace/xgboost-win64_release_0.90/src/objective/regression_obj.cu:152: reg:linear is now deprecated in favor of reg:squarederror.\n",
      "    fold  2:  [16431.72531839]\n",
      "[11:51:46] WARNING: C:/Jenkins/workspace/xgboost-win64_release_0.90/src/objective/regression_obj.cu:152: reg:linear is now deprecated in favor of reg:squarederror.\n",
      "    fold  3:  [15608.76578553]\n",
      "[11:51:49] WARNING: C:/Jenkins/workspace/xgboost-win64_release_0.90/src/objective/regression_obj.cu:152: reg:linear is now deprecated in favor of reg:squarederror.\n",
      "    fold  4:  [17864.58096104]\n",
      "    ----\n",
      "    MEAN:     [16638.58181988] + [1020.39957782]\n",
      "\n",
      "estimator  6: [gbr: GradientBoostingRegressor]\n",
      "    fold  0:  [15245.24065770]\n",
      "    fold  1:  [17386.83727979]\n",
      "    fold  2:  [16531.42062438]\n",
      "    fold  3:  [15941.55362620]\n",
      "    fold  4:  [18430.47561344]\n",
      "    ----\n",
      "    MEAN:     [16707.10556030] + [1112.29703807]\n",
      "\n",
      "Train set was detected.\n",
      "Transforming...\n",
      "\n",
      "estimator  0: [svr: SVR]\n",
      "    model from fold  0: done\n",
      "    model from fold  1: done\n",
      "    model from fold  2: done\n",
      "    model from fold  3: done\n",
      "    model from fold  4: done\n",
      "    ----\n",
      "    DONE\n",
      "\n",
      "estimator  1: [lin: LinearRegression]\n",
      "    model from fold  0: done\n",
      "    model from fold  1: done\n",
      "    model from fold  2: done\n",
      "    model from fold  3: done\n",
      "    model from fold  4: done\n",
      "    ----\n",
      "    DONE\n",
      "\n",
      "estimator  2: [krr: KernelRidge]\n",
      "    model from fold  0: done\n",
      "    model from fold  1: done\n",
      "    model from fold  2: done\n",
      "    model from fold  3: done\n",
      "    model from fold  4: done\n",
      "    ----\n",
      "    DONE\n",
      "\n",
      "estimator  3: [EN: ElasticNet]\n",
      "    model from fold  0: done\n",
      "    model from fold  1: done\n",
      "    model from fold  2: done\n",
      "    model from fold  3: done\n",
      "    model from fold  4: done\n",
      "    ----\n",
      "    DONE\n",
      "\n",
      "estimator  4: [knr: KNeighborsRegressor]\n",
      "    model from fold  0: done\n",
      "    model from fold  1: done\n",
      "    model from fold  2: done\n",
      "    model from fold  3: done\n",
      "    model from fold  4: done\n",
      "    ----\n",
      "    DONE\n",
      "\n",
      "estimator  5: [xgbr: XGBRegressor]\n",
      "    model from fold  0: done\n",
      "    model from fold  1: done\n",
      "    model from fold  2: done\n",
      "    model from fold  3: done\n",
      "    model from fold  4: done\n",
      "    ----\n",
      "    DONE\n",
      "\n",
      "estimator  6: [gbr: GradientBoostingRegressor]\n",
      "    model from fold  0: done\n",
      "    model from fold  1: done\n",
      "    model from fold  2: done\n",
      "    model from fold  3: done\n",
      "    model from fold  4: done\n",
      "    ----\n",
      "    DONE\n",
      "\n",
      "Transforming...\n",
      "\n",
      "estimator  0: [svr: SVR]\n",
      "    model from fold  0: done\n",
      "    model from fold  1: done\n",
      "    model from fold  2: done\n",
      "    model from fold  3: done\n",
      "    model from fold  4: done\n",
      "    ----\n",
      "    DONE\n",
      "\n",
      "estimator  1: [lin: LinearRegression]\n",
      "    model from fold  0: done\n",
      "    model from fold  1: done\n",
      "    model from fold  2: done\n",
      "    model from fold  3: done\n",
      "    model from fold  4: done\n",
      "    ----\n",
      "    DONE\n",
      "\n",
      "estimator  2: [krr: KernelRidge]\n",
      "    model from fold  0: done\n",
      "    model from fold  1: done\n",
      "    model from fold  2: done\n",
      "    model from fold  3: done\n",
      "    model from fold  4: done\n",
      "    ----\n",
      "    DONE\n",
      "\n",
      "estimator  3: [EN: ElasticNet]\n",
      "    model from fold  0: done\n",
      "    model from fold  1: done\n",
      "    model from fold  2: done\n",
      "    model from fold  3: done\n",
      "    model from fold  4: done\n",
      "    ----\n",
      "    DONE\n",
      "\n",
      "estimator  4: [knr: KNeighborsRegressor]\n",
      "    model from fold  0: done\n",
      "    model from fold  1: done\n",
      "    model from fold  2: done\n",
      "    model from fold  3: done\n",
      "    model from fold  4: done\n",
      "    ----\n",
      "    DONE\n",
      "\n",
      "estimator  5: [xgbr: XGBRegressor]\n",
      "    model from fold  0: done\n",
      "    model from fold  1: done\n",
      "    model from fold  2: done\n",
      "    model from fold  3: done\n",
      "    model from fold  4: done\n",
      "    ----\n",
      "    DONE\n",
      "\n",
      "estimator  6: [gbr: GradientBoostingRegressor]\n",
      "    model from fold  0: done\n",
      "    model from fold  1: done\n",
      "    model from fold  2: done\n",
      "    model from fold  3: done\n",
      "    model from fold  4: done\n",
      "    ----\n",
      "    DONE\n",
      "\n"
     ]
    }
   ],
   "source": [
    "from vecstack import StackingTransformer\n",
    "from sklearn.svm import SVR\n",
    "from sklearn.linear_model import LinearRegression\n",
    "from sklearn.tree import DecisionTreeRegressor\n",
    "from sklearn.linear_model import ElasticNet\n",
    "from sklearn.ensemble import RandomForestRegressor\n",
    "from xgboost import XGBRegressor\n",
    "from sklearn.ensemble import GradientBoostingRegressor\n",
    "from sklearn.ensemble import ExtraTreesRegressor\n",
    "from sklearn.neighbors import KNeighborsRegressor\n",
    "from sklearn.linear_model import Ridge\n",
    "from sklearn.kernel_ridge import KernelRidge\n",
    "estimators_1st = [('svr', SVR(kernel='poly', degree=3, gamma='auto',max_iter=1000)),\n",
    "               ('lin',LinearRegression()),\n",
    "                  #('rid',Ridge(alpha=1.0)),\n",
    "                  ('krr',KernelRidge(alpha=0.6, kernel='polynomial', degree=2, coef0=2.5)),\n",
    "              ('EN', ElasticNet()),\n",
    "              #('dtr', DecisionTreeRegressor(random_state=0,max_depth=8)),\n",
    "             ('knr',KNeighborsRegressor(n_neighbors=3,n_jobs=2)),\n",
    "             #('etr',ExtraTreesRegressor(n_estimators=600, max_depth=5)),\n",
    "            ('xgbr',XGBRegressor(learning_rate=0.05,n_estimators=600,max_depth=3)),\n",
    "            #('rfr',RandomForestRegressor(n_estimators=600, max_depth=9)),\n",
    "            ('gbr',GradientBoostingRegressor(learning_rate=0.06,n_estimators=600,max_depth=3))\n",
    "]\n",
    "\n",
    "# Initialize StackingTransformer\n",
    "stack_1st = StackingTransformer(estimators_1st,n_folds=5 , regression=True, verbose=2)\n",
    "stack_1st = stack_1st.fit(X_red, y)\n",
    "\n",
    "# Get your stacked features\n",
    "metaX = stack_1st.transform(X_red)\n",
    "metaTest = stack_1st.transform(Test_red)\n",
    "\n",
    "# Use 2nd level estimator with stacked features"
   ]
  },
  {
   "cell_type": "code",
   "execution_count": 18,
   "metadata": {},
   "outputs": [
    {
     "name": "stdout",
     "output_type": "stream",
     "text": [
      "0.13024596420009676\n"
     ]
    }
   ],
   "source": [
    "#[0.0, 0.0, 0.15000000000000002, 0.0, 0.1, 0.0, 0.25, 0.0, 0.5]\n",
    "from sklearn.linear_model import Lasso\n",
    "\n",
    "# model=Lasso(alpha =1)\n",
    "# model.fit(metaX,y)\n",
    "# y_pred_stack=model.predict(metaX)\n",
    "# print((np.mean((np.log(y_pred_stack)-np.log(y))**2))**0.5)\n",
    "# test_pred_stack=model.predict(metaTest)\n",
    "y_pred_stack=[row[0]*0+row[1]*0+row[2]*0.1+row[3]*0.1+row[4]*0+row[5]*0.3+row[5]*0.5  for row in metaX]\n",
    "print((np.mean((np.log(y_pred_stack)-np.log(y))**2))**0.5)\n",
    "test_pred_stack=[row[0]*0+row[1]*0+row[2]*0.1+row[3]*0.1+row[4]*0+row[5]*0.3+row[5]*0.5  for row in metaTest]"
   ]
  },
  {
   "cell_type": "code",
   "execution_count": 19,
   "metadata": {},
   "outputs": [
    {
     "name": "stderr",
     "output_type": "stream",
     "text": [
      "C:\\Users\\USER\\Anaconda3\\lib\\site-packages\\xgboost\\core.py:587: FutureWarning: Series.base is deprecated and will be removed in a future version\n",
      "  if getattr(data, 'base', None) is not None and \\\n",
      "C:\\Users\\USER\\Anaconda3\\lib\\site-packages\\xgboost\\core.py:588: FutureWarning: Series.base is deprecated and will be removed in a future version\n",
      "  data.base is not None and isinstance(data, np.ndarray) \\\n"
     ]
    },
    {
     "name": "stdout",
     "output_type": "stream",
     "text": [
      "[11:55:14] WARNING: C:/Jenkins/workspace/xgboost-win64_release_0.90/src/objective/regression_obj.cu:152: reg:linear is now deprecated in favor of reg:squarederror.\n",
      "0.09916121108534136\n"
     ]
    }
   ],
   "source": [
    "from xgboost import XGBRegressor\n",
    "from sklearn.preprocessing import StandardScaler\n",
    "\n",
    "metaX=pd.DataFrame(metaX)\n",
    "metaTest=pd.DataFrame(metaTest)\n",
    "scaler=StandardScaler()\n",
    "metaX_norm=scaler.fit_transform(metaX)\n",
    "metaTest_norm=scaler.fit_transform(metaTest)\n",
    "\n",
    "model=XGBRegressor(learning_rate=0.05,n_estimators=700,max_depth=2)\n",
    "model.fit(metaX_norm,y)\n",
    "y_pred_stack_xgb=model.predict(metaX_norm)\n",
    "print((np.mean((np.log(y_pred_stack_xgb)-np.log(y))**2))**0.5)\n",
    "test_pred_stack_xgb=model.predict(metaTest_norm)"
   ]
  },
  {
   "cell_type": "code",
   "execution_count": 20,
   "metadata": {},
   "outputs": [
    {
     "name": "stdout",
     "output_type": "stream",
     "text": [
      "[11:55:46] WARNING: C:/Jenkins/workspace/xgboost-win64_release_0.90/src/objective/regression_obj.cu:152: reg:linear is now deprecated in favor of reg:squarederror.\n",
      "0.06854819653571832\n"
     ]
    }
   ],
   "source": [
    "from xgboost import XGBRegressor\n",
    "\n",
    "#{'learning_rate': 0.05, 'max_depth': 3, 'n_estimators': 600}\n",
    "model=XGBRegressor(learning_rate=0.05,n_estimators=700,max_depth=3)\n",
    "\n",
    "model.fit(X_red,y)\n",
    "y_pred_xgb=model.predict(X_red)\n",
    "print((np.mean((np.log(y_pred_xgb)-np.log(y))**2))**0.5)\n",
    "test_pred_xgb=model.predict(Test_red)"
   ]
  },
  {
   "cell_type": "code",
   "execution_count": 28,
   "metadata": {},
   "outputs": [
    {
     "name": "stdout",
     "output_type": "stream",
     "text": [
      "0.06570391903139731\n"
     ]
    }
   ],
   "source": [
    "# from sklearn.ensemble import GradientBoostingRegressor\n",
    "# model=GradientBoostingRegressor(learning_rate=0.05,n_estimators=600,max_depth=3)\n",
    "\n",
    "# model.fit(X_red,y)\n",
    "# y_pred_gb=model.predict(X_red)\n",
    "# print((np.mean((np.log(y_pred_gb)-np.log(y))**2))**0.5)\n",
    "# test_pred_gb=model.predict(Test_red)"
   ]
  },
  {
   "cell_type": "code",
   "execution_count": 23,
   "metadata": {},
   "outputs": [
    {
     "name": "stdout",
     "output_type": "stream",
     "text": [
      "0.09962461378059281\n"
     ]
    }
   ],
   "source": [
    "#weighted average of the output of the stacking\n",
    "# weighted=[0]*3\n",
    "# bestscore=10\n",
    "# for a in np.arange(0,1.001,0.01):\n",
    "#     for b in np.arange(0,1.001-a,0.01):\n",
    "#         prediction=[y_pred_stack[i]*a+y_pred_xgb[i]*b+y_pred_gb[i]*(1-a-b) for i in range(len(y_pred_gb))]\n",
    "#         score=(np.mean((np.log(prediction)-np.log(y))**2))**0.5\n",
    "#         if bestscore>score:\n",
    "#             bestscore=score\n",
    "#             weighted=[a,b,1-a-b]\n",
    "                                \n",
    "# print(weighted,bestscore)\n",
    "prediction=[y_pred_stack[i]*0.2+y_pred_stack_xgb[i]*0.7+y_pred_xgb[i]*0.1 for i in range(len(y_pred_xgb))]\n",
    "print((np.mean((np.log(prediction)-np.log(y))**2))**0.5)\n",
    "# prediction=[test_pred_stack[i]*a+test_pred_xgb[i]*b+test_pred_gb[i]*(1-a-b) for i in range(len(test_pred_gb))]\n",
    "prediction=[test_pred_stack[i]*0.2+test_pred_stack_xgb[i]*0.7+test_pred_xgb[i]*0.1 for i in range(len(test_pred_xgb))]\n",
    "ans=pd.DataFrame({'Id':Id,'SalePrice':prediction})\n",
    "ans.to_csv('SUBMISSION.csv',index = False)"
   ]
  },
  {
   "cell_type": "code",
   "execution_count": 16,
   "metadata": {},
   "outputs": [],
   "source": [
    "# #weighted average of the output of the stacking\n",
    "# weighted=[0]*9\n",
    "# bestscore=10\n",
    "# for a in np.arange(0,1,0.05):\n",
    "#     for b in np.arange(0,1-a,0.05):\n",
    "#         for c in np.arange(0,1-a-b,0.05):\n",
    "#             for d in np.arange(0,1-a-b-c,0.05):\n",
    "#                 for e in np.arange(0,1-a-b-c-d,0.05):\n",
    "#                     for f in np.arange(0,1-a-b-c-d-e,0.05):\n",
    "#                         for g in np.arange(0,1-a-b-c-d-e-f,0.05):\n",
    "#                             for h in np.arange(0,1-a-b-c-d-e-f-g,0.05):\n",
    "#                                 prediction=[x[0]*a+x[1]*b+x[2]*c+\n",
    "#                                             x[3]*d+x[4]*e+x[5]*f+\n",
    "#                                             x[6]*g+x[7]*h+x[8]*(1-a-b-c-d-e-f-g-h) for x in metaX]\n",
    "#                                 score=(np.mean((np.log(prediction)-np.log(y))**2))**0.5\n",
    "#                                 if bestscore>score:\n",
    "#                                     bestscore=score\n",
    "#                                     weighted=[a,b,c,d,e,f,g,h,1-a-b-c-d-e-f-g-h]\n",
    "# print(weighted,bestscore)\n",
    "\n",
    "# prediction=[x[0]*weighted[0]+x[1]*weighted[1]+x[2]*weighted[2]+\n",
    "#             x[3]*weighted[3]+x[4]*weighted[4]+x[5]*weighted[5]+\n",
    "#             x[6]*weighted[6]+x[7]*weighted[7]+x[8]*weighted[8] for x in metaTest]\n",
    "# ans=pd.DataFrame({'Id':Id,'SalePrice':prediction})\n",
    "# ans.to_csv('SUBMISSION.csv',index = False)\n",
    "#[0.0, 0.0, 0.15000000000000002, 0.0, 0.1, 0.0, 0.25, 0.0, 0.5]"
   ]
  },
  {
   "cell_type": "code",
   "execution_count": 33,
   "metadata": {
    "collapsed": true
   },
   "outputs": [
    {
     "name": "stderr",
     "output_type": "stream",
     "text": [
      "ERROR:root:Internal Python error in the inspect module.\n",
      "Below is the traceback from this internal error.\n",
      "\n"
     ]
    },
    {
     "name": "stdout",
     "output_type": "stream",
     "text": [
      "Traceback (most recent call last):\n",
      "  File \"C:\\Users\\USER\\Anaconda3\\lib\\site-packages\\IPython\\core\\interactiveshell.py\", line 3296, in run_code\n",
      "    exec(code_obj, self.user_global_ns, self.user_ns)\n",
      "  File \"<ipython-input-33-d6e3aeb6737e>\", line 8, in <module>\n",
      "    grid.fit(X_red, y)\n",
      "  File \"C:\\Users\\USER\\Anaconda3\\lib\\site-packages\\sklearn\\model_selection\\_search.py\", line 722, in fit\n",
      "    self._run_search(evaluate_candidates)\n",
      "  File \"C:\\Users\\USER\\Anaconda3\\lib\\site-packages\\sklearn\\model_selection\\_search.py\", line 1191, in _run_search\n",
      "    evaluate_candidates(ParameterGrid(self.param_grid))\n",
      "  File \"C:\\Users\\USER\\Anaconda3\\lib\\site-packages\\sklearn\\model_selection\\_search.py\", line 711, in evaluate_candidates\n",
      "    cv.split(X, y, groups)))\n",
      "  File \"C:\\Users\\USER\\Anaconda3\\lib\\site-packages\\sklearn\\externals\\joblib\\parallel.py\", line 930, in __call__\n",
      "    self.retrieve()\n",
      "  File \"C:\\Users\\USER\\Anaconda3\\lib\\site-packages\\sklearn\\externals\\joblib\\parallel.py\", line 833, in retrieve\n",
      "    self._output.extend(job.get(timeout=self.timeout))\n",
      "  File \"C:\\Users\\USER\\Anaconda3\\lib\\site-packages\\sklearn\\externals\\joblib\\_parallel_backends.py\", line 521, in wrap_future_result\n",
      "    return future.result(timeout=timeout)\n",
      "  File \"C:\\Users\\USER\\Anaconda3\\lib\\concurrent\\futures\\_base.py\", line 427, in result\n",
      "    self._condition.wait(timeout)\n",
      "  File \"C:\\Users\\USER\\Anaconda3\\lib\\threading.py\", line 296, in wait\n",
      "    waiter.acquire()\n",
      "KeyboardInterrupt\n",
      "\n",
      "During handling of the above exception, another exception occurred:\n",
      "\n",
      "Traceback (most recent call last):\n",
      "  File \"C:\\Users\\USER\\Anaconda3\\lib\\site-packages\\IPython\\core\\interactiveshell.py\", line 2033, in showtraceback\n",
      "    stb = value._render_traceback_()\n",
      "AttributeError: 'KeyboardInterrupt' object has no attribute '_render_traceback_'\n",
      "\n",
      "During handling of the above exception, another exception occurred:\n",
      "\n",
      "Traceback (most recent call last):\n",
      "  File \"C:\\Users\\USER\\Anaconda3\\lib\\site-packages\\IPython\\core\\ultratb.py\", line 1095, in get_records\n",
      "    return _fixed_getinnerframes(etb, number_of_lines_of_context, tb_offset)\n",
      "  File \"C:\\Users\\USER\\Anaconda3\\lib\\site-packages\\IPython\\core\\ultratb.py\", line 313, in wrapped\n",
      "    return f(*args, **kwargs)\n",
      "  File \"C:\\Users\\USER\\Anaconda3\\lib\\site-packages\\IPython\\core\\ultratb.py\", line 347, in _fixed_getinnerframes\n",
      "    records = fix_frame_records_filenames(inspect.getinnerframes(etb, context))\n",
      "  File \"C:\\Users\\USER\\Anaconda3\\lib\\inspect.py\", line 1502, in getinnerframes\n",
      "    frameinfo = (tb.tb_frame,) + getframeinfo(tb, context)\n",
      "  File \"C:\\Users\\USER\\Anaconda3\\lib\\inspect.py\", line 1460, in getframeinfo\n",
      "    filename = getsourcefile(frame) or getfile(frame)\n",
      "  File \"C:\\Users\\USER\\Anaconda3\\lib\\inspect.py\", line 696, in getsourcefile\n",
      "    if getattr(getmodule(object, filename), '__loader__', None) is not None:\n",
      "  File \"C:\\Users\\USER\\Anaconda3\\lib\\inspect.py\", line 739, in getmodule\n",
      "    f = getabsfile(module)\n",
      "  File \"C:\\Users\\USER\\Anaconda3\\lib\\inspect.py\", line 708, in getabsfile\n",
      "    _filename = getsourcefile(object) or getfile(object)\n",
      "  File \"C:\\Users\\USER\\Anaconda3\\lib\\inspect.py\", line 693, in getsourcefile\n",
      "    if os.path.exists(filename):\n",
      "  File \"C:\\Users\\USER\\Anaconda3\\lib\\genericpath.py\", line 19, in exists\n",
      "    os.stat(path)\n",
      "KeyboardInterrupt\n"
     ]
    },
    {
     "ename": "KeyboardInterrupt",
     "evalue": "",
     "output_type": "error",
     "traceback": [
      "\u001b[1;31m---------------------------------------------------------------------------\u001b[0m"
     ]
    }
   ],
   "source": [
    "from sklearn.ensemble import GradientBoostingRegressor\n",
    "from sklearn.model_selection import GridSearchCV\n",
    "reg =XGBRegressor()\n",
    "p = {\n",
    "    'learning_rate':np.arange(0.02,0.1,0.01),'n_estimators':np.arange(100,800,100),'max_depth':np.arange(2,7,1)\n",
    "}\n",
    "grid = GridSearchCV(reg, p,scoring='neg_mean_squared_log_error', cv=10, n_jobs=4)\n",
    "grid.fit(X_red, y)\n",
    "grid.best_params_"
   ]
  },
  {
   "cell_type": "code",
   "execution_count": 24,
   "metadata": {},
   "outputs": [],
   "source": [
    "# supermetaX=pd.concat([pd.DataFrame(X_red),pd.DataFrame(metaX,columns=['m_'+str(i) for i in range(len(estimators_1st))])],axis=1)\n",
    "# supermetaTest=pd.concat([pd.DataFrame(Test_red),pd.DataFrame(metaTest,columns=['m_'+str(i) for i in range(len(estimators_1st))])],axis=1)"
   ]
  },
  {
   "cell_type": "code",
   "execution_count": 19,
   "metadata": {},
   "outputs": [
    {
     "name": "stderr",
     "output_type": "stream",
     "text": [
      "C:\\Users\\USER\\Anaconda3\\lib\\site-packages\\xgboost\\core.py:587: FutureWarning: Series.base is deprecated and will be removed in a future version\n",
      "  if getattr(data, 'base', None) is not None and \\\n",
      "C:\\Users\\USER\\Anaconda3\\lib\\site-packages\\xgboost\\core.py:588: FutureWarning: Series.base is deprecated and will be removed in a future version\n",
      "  data.base is not None and isinstance(data, np.ndarray) \\\n"
     ]
    },
    {
     "name": "stdout",
     "output_type": "stream",
     "text": [
      "[20:47:40] WARNING: C:/Jenkins/workspace/xgboost-win64_release_0.90/src/objective/regression_obj.cu:152: reg:linear is now deprecated in favor of reg:squarederror.\n",
      "0.12493648341521463\n"
     ]
    }
   ],
   "source": [
    "from xgboost import XGBRegressor\n",
    "from sklearn.model_selection import cross_val_score\n",
    "from sklearn.metrics import make_scorer\n",
    "#{'learning_rate': 0.05, 'max_depth': 3, 'n_estimators': 600}\n",
    "model=XGBRegressor(learning_rate=0.009,n_estimators=500,max_depth=2)\n",
    "# def ro_me_sq_log_err(y, pre):\n",
    "#      return np.mean((np.log(pre)-np.log(y))**2)\n",
    "# scorer = make_scorer(ro_me_sq_log_err, greater_is_better=False)\n",
    "# s = cross_val_score(model,X_red, y, scoring=scorer,cv=10)\n",
    "# print(\"十次:\", s)\n",
    "# print(\"平均:\", np.average(s))\n",
    "model.fit(metaX2,y)\n",
    "prediction=model.predict(metaX2)\n",
    "print((np.mean((np.log(prediction)-np.log(y))**2))**0.5)"
   ]
  },
  {
   "cell_type": "code",
   "execution_count": 20,
   "metadata": {},
   "outputs": [],
   "source": [
    "prediction=model.predict(metaTest2)\n",
    "ans=pd.DataFrame({'Id':Id,'SalePrice':prediction})\n",
    "ans.to_csv('SUBMISSION.csv',index = False)"
   ]
  },
  {
   "cell_type": "code",
   "execution_count": 15,
   "metadata": {},
   "outputs": [
    {
     "name": "stdout",
     "output_type": "stream",
     "text": [
      "[8.00857685e-01 1.98102445e-01 1.83881801e-04 8.27978507e-05\n",
      " 6.57937990e-05 5.80054133e-05 4.42271893e-05 3.74260798e-05\n",
      " 3.63243148e-05 3.18501106e-05 3.00349501e-05 2.96057974e-05\n",
      " 2.87089755e-05 2.81275219e-05 2.65867353e-05 2.61972326e-05\n",
      " 2.52945943e-05 2.31763780e-05 2.19216889e-05 2.07285882e-05]\n",
      "[6441.56494798 3203.7501075    97.60747785   65.49727745   58.38566057\n",
      "   54.82112946   47.86944434   44.03529253   43.38228587   40.62273774\n",
      "   39.4481984    39.16535772   38.56759553   38.17503574   37.11472285\n",
      "   36.8418495    36.20158414   34.65265374   33.70161564   32.7716704 ]\n"
     ]
    }
   ],
   "source": [
    "from sklearn.decomposition import PCA\n",
    "pca = PCA(n_components=20)\n",
    "pca.fit(X_red)\n",
    "print(pca.explained_variance_ratio_)\n",
    "print(pca.singular_values_)\n",
    "X_red=pca.transform(X_red)\n",
    "Test_red=pca.transform(Test_red)"
   ]
  },
  {
   "cell_type": "code",
   "execution_count": 19,
   "metadata": {},
   "outputs": [
    {
     "data": {
      "text/plain": [
       "(1460, 82)"
      ]
     },
     "execution_count": 19,
     "metadata": {},
     "output_type": "execute_result"
    }
   ],
   "source": [
    "cor=pd.DataFrame(X_red).corr()\n",
    "threshold=0.90\n",
    "corList=[]\n",
    "for i in range(cor.shape[0]):\n",
    "    corList.append([])\n",
    "    for j in range(cor.shape[0]):\n",
    "        if i>j:\n",
    "            if abs(cor.iloc[i,j])>threshold:\n",
    "                corList[-1].append(j)\n",
    "\n",
    "todel=set()            \n",
    "for i in range(len(corList)):\n",
    "    for j in corList[i]:\n",
    "        todel.add(j)\n",
    "todel=list(delList)\n",
    "pd.DataFrame(X_red).drop(todel,axis=1).shape"
   ]
  },
  {
   "cell_type": "code",
   "execution_count": 5,
   "metadata": {
    "collapsed": true
   },
   "outputs": [
    {
     "name": "stdout",
     "output_type": "stream",
     "text": [
      "task:         [regression]\n",
      "metric:       [mean_absolute_error]\n",
      "variant:      [A]\n",
      "n_estimators: [2]\n",
      "\n",
      "estimator  0: [rfr1: RandomForestRegressor]\n",
      "    fold  0:  [22528.85111079]\n",
      "    fold  1:  [23249.29093735]\n",
      "    fold  2:  [19301.89607812]\n",
      "    fold  3:  [21482.75614286]\n",
      "    ----\n",
      "    MEAN:     [21640.69856728] + [1489.23866844]\n",
      "\n",
      "estimator  1: [rfr2: RandomForestRegressor]\n",
      "    fold  0:  [22587.91953831]\n",
      "    fold  1:  [23387.58891721]\n",
      "    fold  2:  [19607.61650689]\n",
      "    fold  3:  [21647.44615194]\n",
      "    ----\n",
      "    MEAN:     [21807.64277859] + [1411.63382097]\n",
      "\n",
      "Train set was detected.\n",
      "Transforming...\n",
      "\n",
      "estimator  0: [rfr1: RandomForestRegressor]\n",
      "    model from fold  0: done\n",
      "    model from fold  1: done\n",
      "    model from fold  2: done\n",
      "    model from fold  3: done\n",
      "    ----\n",
      "    DONE\n",
      "\n",
      "estimator  1: [rfr2: RandomForestRegressor]\n",
      "    model from fold  0: done\n",
      "    model from fold  1: done\n",
      "    model from fold  2: done\n",
      "    model from fold  3: done\n",
      "    ----\n",
      "    DONE\n",
      "\n",
      "Transforming...\n",
      "\n",
      "estimator  0: [rfr1: RandomForestRegressor]\n",
      "    model from fold  0: done\n",
      "    model from fold  1: done\n",
      "    model from fold  2: done\n",
      "    model from fold  3: done\n",
      "    ----\n",
      "    DONE\n",
      "\n",
      "estimator  1: [rfr2: RandomForestRegressor]\n",
      "    model from fold  0: done\n",
      "    model from fold  1: done\n",
      "    model from fold  2: done\n",
      "    model from fold  3: done\n",
      "    ----\n",
      "    DONE\n",
      "\n"
     ]
    }
   ],
   "source": [
    "# from sklearn.ensemble import RandomForestRegressor\n",
    "# estimators_2nd = [#('svr', SVR(kernel='poly', degree=3, gamma='auto',max_iter=500)),\n",
    "#               ('rfr1',RandomForestRegressor(n_estimators=200,random_state=0,max_depth=5)),\n",
    "#              ('rfr2',RandomForestRegressor(n_estimators=200,random_state=1,max_depth=5))\n",
    "#              ]\n",
    "              \n",
    "# # Initialize StackingTransformer\n",
    "# stack_2nd = StackingTransformer(estimators_2nd, regression=True, verbose=2)\n",
    "# stack_2nd = stack_2nd.fit(S_1st, y)\n",
    "\n",
    "# # Get your stacked features\n",
    "# S_2nd = stack_2nd.transform(S_1st)\n",
    "# S_test_2nd = stack_2nd.transform(S_test_1st)\n"
   ]
  },
  {
   "cell_type": "code",
   "execution_count": 11,
   "metadata": {},
   "outputs": [
    {
     "data": {
      "text/plain": [
       "<matplotlib.axes._subplots.AxesSubplot at 0x1c413cfbc88>"
      ]
     },
     "execution_count": 11,
     "metadata": {},
     "output_type": "execute_result"
    },
    {
     "data": {
      "image/png": "[encoded data removed]",
      "text/plain": [
       "<Figure size 1008x1008 with 2 Axes>"
      ]
     },
     "metadata": {
      "needs_background": "light"
     },
     "output_type": "display_data"
    }
   ],
   "source": [
    "import matplotlib.pyplot as plt\n",
    "%matplotlib inline\n",
    "import seaborn as sns\n",
    "plt.figure(figsize=(14, 14))\n",
    "sns.heatmap(pd.DataFrame(metaX).corr(),\n",
    "            annot=True,\n",
    "            cmap=\"RdBu_r\")"
   ]
  },
  {
   "cell_type": "code",
   "execution_count": null,
   "metadata": {},
   "outputs": [],
   "source": []
  }
 ],
 "metadata": {
  "kernelspec": {
   "display_name": "Python 3",
   "language": "python",
   "name": "python3"
  },
  "language_info": {
   "codemirror_mode": {
    "name": "ipython",
    "version": 3
   },
   "file_extension": ".py",
   "mimetype": "text/x-python",
   "name": "python",
   "nbconvert_exporter": "python",
   "pygments_lexer": "ipython3",
   "version": "3.7.3"
  }
 },
 "nbformat": 4,
 "nbformat_minor": 2
}
