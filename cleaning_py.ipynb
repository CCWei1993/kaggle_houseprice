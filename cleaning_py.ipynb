{
 "cells": [
  {
   "cell_type": "code",
   "execution_count": 57,
   "metadata": {},
   "outputs": [],
   "source": [
    "import pandas as pd \n",
    "import matplotlib.pyplot as plt\n",
    "from sklearn.preprocessing import StandardScaler\n",
    "pd.set_option('max_columns',2000)\n",
    "pd.set_option('max_rows',2000)\n",
    "Train=pd.read_csv('train.csv')\n",
    "Test=pd.read_csv('test.csv')\n",
    "Train=Train.drop(['Id'],axis=1)\n",
    "#Test=Test.drop(['Id'],axis=1)"
   ]
  },
  {
   "cell_type": "markdown",
   "metadata": {},
   "source": [
    "category ==> NA ==> mode ==> one-hot encoding ==> same features between train and test=>get_dummy\n",
    "                                              ==>\n",
    "                ==> NA is meaningful ==> one-hot encoding\n",
    "                \n",
    "                \n",
    "numeric ==> NA ==> median ==> standardization \n",
    "               ==> NA is meaningful ==> standardization"
   ]
  },
  {
   "cell_type": "code",
   "execution_count": 58,
   "metadata": {},
   "outputs": [],
   "source": [
    "def get_OHE(data,features,prefix,column):\n",
    "    for feature in features:\n",
    "        col=prefix+'_'+feature\n",
    "        if col not in data.columns: \n",
    "            # add a new column\n",
    "            data[col]=0 \n",
    "        data[col]=data[col] | data[column].apply(lambda s:1 if s==feature else 0)\n",
    "    data=data.drop(column,axis=1)\n",
    "    return data"
   ]
  },
  {
   "cell_type": "code",
   "execution_count": 59,
   "metadata": {},
   "outputs": [],
   "source": [
    "#MSSubClass turn into category variable \n",
    "# one-hot encoding\n",
    "Train=Train.astype({'MSSubClass':'str'})\n",
    "train_features=Train['MSSubClass'].value_counts().index\n",
    "Train=pd.get_dummies(Train, dummy_na=False,columns=['MSSubClass'])\n",
    "Test=Test.astype({'MSSubClass':'str'})\n",
    "Test=get_OHE(Test,train_features,'MSSubClass','MSSubClass')"
   ]
  },
  {
   "cell_type": "code",
   "execution_count": 60,
   "metadata": {},
   "outputs": [],
   "source": [
    "#MSZoning fillna Test\n",
    "# one-hot encoding\n",
    "mode=Train['MSZoning'].mode()[0]\n",
    "Test['MSZoning']=Test['MSZoning'].fillna(mode)\n",
    "Train=pd.get_dummies(Train, dummy_na=False,columns=['MSZoning'])\n",
    "Test=pd.get_dummies(Test, dummy_na=False,columns=['MSZoning'])"
   ]
  },
  {
   "cell_type": "code",
   "execution_count": 61,
   "metadata": {},
   "outputs": [],
   "source": [
    "#LotFrontage fillna standard_scale\n",
    "med=Train['LotFrontage'].median()\n",
    "Train['LotFrontage']=Train['LotFrontage'].fillna(med)\n",
    "Test['LotFrontage']=Test['LotFrontage'].fillna(med)\n",
    "# scaler=StandardScaler()\n",
    "# Train['LotFrontage']=scaler.fit_transform(Train['LotFrontage'].to_numpy().reshape(-1, 1))\n",
    "# Test['LotFrontage']=scaler.transform(Test['LotFrontage'].to_numpy().reshape(-1, 1))"
   ]
  },
  {
   "cell_type": "code",
   "execution_count": 62,
   "metadata": {},
   "outputs": [],
   "source": [
    "#LotArea standardscale\n",
    "# scaler=StandardScaler()\n",
    "# Train['LotArea']=scaler.fit_transform(Train['LotArea'].to_numpy().reshape(-1, 1))\n",
    "# Test['LotArea']=scaler.transform(Test['LotArea'].to_numpy().reshape(-1, 1))"
   ]
  },
  {
   "cell_type": "code",
   "execution_count": 63,
   "metadata": {},
   "outputs": [],
   "source": [
    "#Street one-hot encoding\n",
    "Train=pd.get_dummies(Train, dummy_na=True,columns=['Street'])\n",
    "Test=pd.get_dummies(Test, dummy_na=True,columns=['Street'])"
   ]
  },
  {
   "cell_type": "code",
   "execution_count": 64,
   "metadata": {},
   "outputs": [],
   "source": [
    "#Alley one-hot encoding\n",
    "Train=pd.get_dummies(Train, dummy_na=False,columns=['Alley'])\n",
    "Test=pd.get_dummies(Test, dummy_na=False,columns=['Alley'])"
   ]
  },
  {
   "cell_type": "code",
   "execution_count": 65,
   "metadata": {},
   "outputs": [],
   "source": [
    "#LotShape one-hot encoding\n",
    "Train=pd.get_dummies(Train, dummy_na=False,columns=['LotShape'])\n",
    "Test=pd.get_dummies(Test, dummy_na=False,columns=['LotShape'])"
   ]
  },
  {
   "cell_type": "code",
   "execution_count": 66,
   "metadata": {},
   "outputs": [],
   "source": [
    "#LandContour one-hot encoding\n",
    "Train=pd.get_dummies(Train, dummy_na=False,columns=['LandContour'])\n",
    "Test=pd.get_dummies(Test, dummy_na=False,columns=['LandContour'])"
   ]
  },
  {
   "cell_type": "code",
   "execution_count": 67,
   "metadata": {},
   "outputs": [],
   "source": [
    "# Utilities\n",
    "# all the same in this columns\n",
    "Train=Train.drop(['Utilities'],axis=1)\n",
    "Test=Test.drop(['Utilities'],axis=1)"
   ]
  },
  {
   "cell_type": "code",
   "execution_count": 68,
   "metadata": {},
   "outputs": [],
   "source": [
    "#LotConfig one-hot encoding\n",
    "Train=pd.get_dummies(Train, dummy_na=False,columns=['LotConfig'])\n",
    "Test=pd.get_dummies(Test, dummy_na=False,columns=['LotConfig'])"
   ]
  },
  {
   "cell_type": "code",
   "execution_count": 69,
   "metadata": {},
   "outputs": [],
   "source": [
    "#LandSlope one-hot encoding\n",
    "Train=pd.get_dummies(Train, dummy_na=False,columns=['LandSlope'])\n",
    "Test=pd.get_dummies(Test, dummy_na=False,columns=['LandSlope'])"
   ]
  },
  {
   "cell_type": "code",
   "execution_count": 70,
   "metadata": {},
   "outputs": [],
   "source": [
    "#Neighborhood one-hot encoding\n",
    "Train=pd.get_dummies(Train, dummy_na=False,columns=['Neighborhood'])\n",
    "Test=pd.get_dummies(Test, dummy_na=False,columns=['Neighborhood'])"
   ]
  },
  {
   "cell_type": "code",
   "execution_count": 71,
   "metadata": {},
   "outputs": [],
   "source": [
    "#Condition1 & Condition2\n",
    "train_features=Train['Condition1'].value_counts().index\n",
    "Train=get_OHE(Train,train_features,'Condition','Condition1')\n",
    "Test=get_OHE(Test,train_features,'Condition','Condition1')\n",
    "Train=get_OHE(Train,train_features,'Condition','Condition2')\n",
    "Test=get_OHE(Test,train_features,'Condition','Condition2')"
   ]
  },
  {
   "cell_type": "code",
   "execution_count": 72,
   "metadata": {},
   "outputs": [],
   "source": [
    "#BldgType one-hot encoding\n",
    "Train=pd.get_dummies(Train, dummy_na=False,columns=['BldgType'])\n",
    "Test=pd.get_dummies(Test, dummy_na=False,columns=['BldgType'])"
   ]
  },
  {
   "cell_type": "code",
   "execution_count": 73,
   "metadata": {},
   "outputs": [],
   "source": [
    "#HouseStyle\n",
    "train_features=Train['HouseStyle'].value_counts().index\n",
    "Train=pd.get_dummies(Train, dummy_na=False,columns=['HouseStyle'])\n",
    "Test=get_OHE(Test,train_features,'HouseStyle','HouseStyle')"
   ]
  },
  {
   "cell_type": "code",
   "execution_count": 74,
   "metadata": {},
   "outputs": [],
   "source": [
    "# OverallQual\n",
    "# scaler=StandardScaler()\n",
    "# Train['OverallQual']=scaler.fit_transform(Train['OverallQual'].to_numpy().reshape(-1, 1))\n",
    "# Test['OverallQual']=scaler.transform(Test['OverallQual'].to_numpy().reshape(-1, 1))"
   ]
  },
  {
   "cell_type": "code",
   "execution_count": 75,
   "metadata": {
    "scrolled": true
   },
   "outputs": [],
   "source": [
    "# OverallCond\n",
    "# scaler=StandardScaler()\n",
    "# Train['OverallCond']=scaler.fit_transform(Train['OverallCond'].to_numpy().reshape(-1, 1))\n",
    "# Test['OverallCond']=scaler.transform(Test['OverallCond'].to_numpy().reshape(-1, 1))"
   ]
  },
  {
   "cell_type": "code",
   "execution_count": 76,
   "metadata": {},
   "outputs": [],
   "source": [
    "#YearBuilt turn into age \n",
    "Train['YearBuilt']=2010-Train['YearBuilt']\n",
    "Test['YearBuilt']=2010-Test['YearBuilt']\n",
    "# scaler=StandardScaler()\n",
    "# Train['YearBuilt']=scaler.fit_transform(Train['YearBuilt'].to_numpy().reshape(-1, 1))\n",
    "# Test['YearBuilt']=scaler.transform(Test['YearBuilt'].to_numpy().reshape(-1, 1))"
   ]
  },
  {
   "cell_type": "code",
   "execution_count": 77,
   "metadata": {},
   "outputs": [],
   "source": [
    "#YearRemodAdd turn into age \n",
    "Train['YearRemodAdd']=2010-Train['YearRemodAdd']\n",
    "Test['YearRemodAdd']=2010-Test['YearRemodAdd']\n",
    "# scaler=StandardScaler()\n",
    "# Train['YearRemodAdd']=scaler.fit_transform(Train['YearRemodAdd'].to_numpy().reshape(-1, 1))\n",
    "# Test['YearRemodAdd']=scaler.transform(Test['YearRemodAdd'].to_numpy().reshape(-1, 1))"
   ]
  },
  {
   "cell_type": "code",
   "execution_count": 78,
   "metadata": {},
   "outputs": [],
   "source": [
    "# RoofStyle one-hot encoding\n",
    "Train=pd.get_dummies(Train, dummy_na=False,columns=['RoofStyle'])\n",
    "Test=pd.get_dummies(Test, dummy_na=False,columns=['RoofStyle'])"
   ]
  },
  {
   "cell_type": "code",
   "execution_count": 79,
   "metadata": {},
   "outputs": [],
   "source": [
    "# RoofMatl\n",
    "train_features=Train['RoofMatl'].value_counts().index\n",
    "Train=pd.get_dummies(Train, dummy_na=False,columns=['RoofMatl'])\n",
    "Test=get_OHE(Test,train_features,'RoofMatl','RoofMatl')"
   ]
  },
  {
   "cell_type": "code",
   "execution_count": 80,
   "metadata": {},
   "outputs": [],
   "source": [
    "#Exterior1st\n",
    "#get_OHE(data,train_features,prefix,column):\n",
    "\n",
    "# wrong value \n",
    "Train.loc[Train['Exterior2nd']=='CmentBd','Exterior2nd'] = 'CemntBd'\n",
    "Train.loc[Train['Exterior2nd']=='Brk Cmn','Exterior2nd'] = 'BrkComm'\n",
    "Train.loc[Train['Exterior2nd']=='Wd Shng','Exterior2nd']= 'Wd Sdng'\n",
    "Test.loc[Test['Exterior2nd']=='CmentBd','Exterior2nd'] = 'CemntBd'\n",
    "Test.loc[Test['Exterior2nd']=='Brk Cmn','Exterior2nd'] = 'BrkComm'\n",
    "Test.loc[Test['Exterior2nd']=='Wd Shng','Exterior2nd']= 'Wd Sdng'\n",
    "\n",
    "features=list(set(list(Train['Exterior1st'].value_counts().index)+list(Train['Exterior2nd'].value_counts().index)))\n",
    "Train=get_OHE(Train,features,'Exterior','Exterior1st')\n",
    "Train=get_OHE(Train,features,'Exterior','Exterior2nd')\n",
    "Test=get_OHE(Test,features,'Exterior','Exterior1st')\n",
    "Test=get_OHE(Test,features,'Exterior','Exterior2nd')"
   ]
  },
  {
   "cell_type": "code",
   "execution_count": 81,
   "metadata": {},
   "outputs": [],
   "source": [
    "# MasVnrType MasVnrArea ???\n",
    "Train.loc[Train['MasVnrArea'].isna(),'MasVnrArea']=0\n",
    "Train.loc[Train['MasVnrType'].isna(),'MasVnrType']='None'\n",
    "Test.loc[Test['MasVnrArea'].isna(),'MasVnrArea']=0\n",
    "Test.loc[Test['MasVnrType'].isna(),'MasVnrType']='None'\n",
    "features=['BrkCmn','BrkFace','Stone']\n",
    "Train=get_OHE(Train,features,'MasVnrType','MasVnrType')\n",
    "Test=get_OHE(Test,features,'MasVnrType','MasVnrType')\n",
    "for f in features:\n",
    "    col='MasVnrType'+'_'+f\n",
    "    Train[col]=Train[col]*Train['MasVnrArea']\n",
    "    Test[col]=Test[col]*Test['MasVnrArea']\n",
    "#     scaler=StandardScaler()\n",
    "#     Train[col]=scaler.fit_transform(Train[col].to_numpy().reshape(-1, 1))\n",
    "#     Test[col]=scaler.transform(Test[col].to_numpy().reshape(-1, 1))\n",
    "Train=Train.drop('MasVnrArea',axis=1)\n",
    "Test=Test.drop('MasVnrArea',axis=1)"
   ]
  },
  {
   "cell_type": "code",
   "execution_count": 82,
   "metadata": {},
   "outputs": [],
   "source": [
    "#ExterQual ExterCond\n",
    "table=['Po','Fa','TA','Gd','Ex']\n",
    "for i,t in enumerate(table):\n",
    "    Train['ExterQual']=Train['ExterQual'].apply(lambda s: i if s==t else s)\n",
    "    Train['ExterCond']=Train['ExterCond'].apply(lambda s: i if s==t else s)\n",
    "    Test['ExterQual']=Test['ExterQual'].apply(lambda s: i if s==t else s)\n",
    "    Test['ExterCond']=Test['ExterCond'].apply(lambda s: i if s==t else s)\n",
    "# scaler=StandardScaler()\n",
    "# Train['ExterQual']=scaler.fit_transform(Train['ExterQual'].to_numpy().reshape(-1, 1))\n",
    "# Test['ExterQual']=scaler.transform(Test['ExterQual'].to_numpy().reshape(-1, 1))\n",
    "# scaler=StandardScaler()\n",
    "# Train['ExterCond']=scaler.fit_transform(Train['ExterCond'].to_numpy().reshape(-1, 1))\n",
    "# Test['ExterCond']=scaler.transform(Test['ExterCond'].to_numpy().reshape(-1, 1))"
   ]
  },
  {
   "cell_type": "code",
   "execution_count": 83,
   "metadata": {},
   "outputs": [],
   "source": [
    "#Foundation \n",
    "Train=pd.get_dummies(Train, dummy_na=False,columns=['Foundation'])\n",
    "Test=pd.get_dummies(Test, dummy_na=False,columns=['Foundation'])"
   ]
  },
  {
   "cell_type": "code",
   "execution_count": 84,
   "metadata": {},
   "outputs": [],
   "source": [
    "#BsmtQual BsmtCond\n",
    "noBsmt=(Test['TotalBsmtSF']!=0)&(~Test['TotalBsmtSF'].isna())\n",
    "Test.loc[(Test['BsmtQual'].isna())&noBsmt,['BsmtQual']]=Train['BsmtQual'].mode()[0]\n",
    "Test.loc[(Test['BsmtCond'].isna())&noBsmt,['BsmtCond']]=Train['BsmtCond'].mode()[0]\n",
    "\n",
    "table=['Po','Fa','TA','Gd','Ex']\n",
    "for i,t in enumerate(table):\n",
    "    Train['BsmtQual']=Train['BsmtQual'].apply(lambda s: i+1 if s==t else s)\n",
    "    Train['BsmtCond']=Train['BsmtCond'].apply(lambda s: i+1 if s==t else s)\n",
    "    Test['BsmtQual']=Test['BsmtQual'].apply(lambda s: i+1 if s==t else s)\n",
    "    Test['BsmtCond']=Test['BsmtCond'].apply(lambda s: i+1 if s==t else s)\n",
    "Train.loc[Train['BsmtQual'].isna(),['BsmtQual']]=0\n",
    "Train.loc[Train['BsmtCond'].isna(),['BsmtCond']]=0\n",
    "Test.loc[Test['BsmtQual'].isna(),['BsmtQual']]=0\n",
    "Test.loc[Test['BsmtCond'].isna(),['BsmtCond']]=0\n",
    "# standardize\n",
    "# scaler=StandardScaler()\n",
    "# Train['BsmtQual']=scaler.fit_transform(Train['BsmtQual'].to_numpy().reshape(-1, 1))\n",
    "# Test['BsmtQual']=scaler.transform(Test['BsmtQual'].to_numpy().reshape(-1, 1))\n",
    "# scaler=StandardScaler()\n",
    "# Train['BsmtCond']=scaler.fit_transform(Train['BsmtCond'].to_numpy().reshape(-1, 1))\n",
    "# Test['BsmtCond']=scaler.transform(Test['BsmtCond'].to_numpy().reshape(-1, 1))"
   ]
  },
  {
   "cell_type": "code",
   "execution_count": 85,
   "metadata": {},
   "outputs": [],
   "source": [
    "#BsmtExposure\n",
    "mode=Train['BsmtExposure'].mode()[0]\n",
    "Train.loc[(Train['BsmtExposure'].isna())&noBsmt,['BsmtExposure']]=mode\n",
    "Test.loc[(Test['BsmtExposure'].isna())&noBsmt,['BsmtExposure']]=mode\n",
    "table=['No','Mn','Av','Gd']\n",
    "for i,t in enumerate(table):\n",
    "    Train['BsmtExposure']=Train['BsmtExposure'].apply(lambda s: i+1 if s==t else s)\n",
    "    Test['BsmtExposure']=Test['BsmtExposure'].apply(lambda s: i+1 if s==t else s)\n",
    "Train.loc[Train['BsmtExposure'].isna(),['BsmtExposure']]=0\n",
    "Test.loc[Test['BsmtExposure'].isna(),['BsmtExposure']]=0\n",
    "# scaler=StandardScaler()\n",
    "# Train['BsmtExposure']=scaler.fit_transform(Train['BsmtExposure'].to_numpy().reshape(-1, 1))\n",
    "# Test['BsmtExposure']=scaler.transform(Test['BsmtExposure'].to_numpy().reshape(-1, 1))"
   ]
  },
  {
   "cell_type": "code",
   "execution_count": 86,
   "metadata": {},
   "outputs": [],
   "source": [
    "# TotalBsmtSF = BsmtFinSF1+BsmtFinSF2+BsmtUnfSF\n",
    "Test.loc[Test['BsmtFinSF1'].isna(),['BsmtFinSF1','BsmtFinSF2','BsmtUnfSF']]=0\n",
    "Train.loc[Train['BsmtFinType2'].isna(),['BsmtFinType2']]=Train['BsmtFinType2'].mode()[0]\n",
    "\n",
    "features=['GLQ','ALQ','BLQ','Rec','LwQ','Unf']\n",
    "Train=get_OHE(Train,features,'BsmtFinType','BsmtFinType1')\n",
    "Train=get_OHE(Train,features,'BsmtFinType','BsmtFinType2')\n",
    "Test=get_OHE(Test,features,'BsmtFinType','BsmtFinType1')\n",
    "Test=get_OHE(Test,features,'BsmtFinType','BsmtFinType2')\n",
    "for f in features:\n",
    "    col='BsmtFinType'+'_'+f\n",
    "    Train[col]=Train[col]*Train['BsmtFinSF1']\n",
    "    Train[col]=Train[col]*Train['BsmtFinSF2']\n",
    "    Test[col]=Test[col]*Test['BsmtFinSF1']\n",
    "    Test[col]=Test[col]*Test['BsmtFinSF2']\n",
    "#     scaler=StandardScaler()\n",
    "#     Train[col]=scaler.fit_transform(Train[col].to_numpy().reshape(-1, 1))\n",
    "#     Test[col]=scaler.transform(Test[col].to_numpy().reshape(-1, 1))\n",
    "Train['BsmtFinType_Unf']=Train['BsmtFinType_Unf']*Train['BsmtUnfSF']\n",
    "Test['BsmtFinType_Unf']=Test['BsmtFinType_Unf']*Test['BsmtUnfSF']\n",
    "# scaler=StandardScaler()\n",
    "# Train['BsmtFinType_Unf']=scaler.fit_transform(Train['BsmtFinType_Unf'].to_numpy().reshape(-1, 1))\n",
    "# Test['BsmtFinType_Unf']=scaler.transform(Test['BsmtFinType_Unf'].to_numpy().reshape(-1, 1))\n",
    "\n",
    "Train=Train.drop(['BsmtFinSF1','BsmtFinSF2','BsmtUnfSF','TotalBsmtSF'],axis=1)\n",
    "Test=Test.drop(['BsmtFinSF1','BsmtFinSF2','BsmtUnfSF','TotalBsmtSF'],axis=1)\n"
   ]
  },
  {
   "cell_type": "code",
   "execution_count": 87,
   "metadata": {},
   "outputs": [],
   "source": [
    "#Heating\n",
    "features=['GasA', 'GasW', 'Grav', 'Wall', 'OthW', 'Floor']\n",
    "Train=get_OHE(Train,features,'Heating','Heating')\n",
    "Test=get_OHE(Test,features,'Heating','Heating')"
   ]
  },
  {
   "cell_type": "code",
   "execution_count": 88,
   "metadata": {},
   "outputs": [],
   "source": [
    "#HeatingQC\n",
    "table=['Po','Fa','TA','Gd','Ex']\n",
    "for i,t in enumerate(table):\n",
    "    Train['HeatingQC']=Train['HeatingQC'].apply(lambda s: i+1 if s==t else s)\n",
    "    Test['HeatingQC']=Test['HeatingQC'].apply(lambda s: i+1 if s==t else s)\n",
    "# scaler=StandardScaler()\n",
    "# Train['HeatingQC']=scaler.fit_transform(Train['HeatingQC'].to_numpy().reshape(-1, 1))\n",
    "# Test['HeatingQC']=scaler.transform(Test['HeatingQC'].to_numpy().reshape(-1, 1))"
   ]
  },
  {
   "cell_type": "code",
   "execution_count": 89,
   "metadata": {},
   "outputs": [],
   "source": [
    "#CentralAir\n",
    "table=['N','Y']\n",
    "for i,t in enumerate(table):\n",
    "    Train['CentralAir']=Train['CentralAir'].apply(lambda s: i if s==t else s)\n",
    "    Test['CentralAir']=Test['CentralAir'].apply(lambda s: i if s==t else s)"
   ]
  },
  {
   "cell_type": "code",
   "execution_count": 90,
   "metadata": {},
   "outputs": [],
   "source": [
    "#Electrical\n",
    "Train.loc[Train['Electrical'].isna(),'Electrical']=Train['Electrical'].mode()[0]\n",
    "features=['SBrkr', 'FuseA', 'FuseF', 'FuseP', 'Mix']\n",
    "Train=get_OHE(Train,features,'Electrical','Electrical')\n",
    "Test=get_OHE(Test,features,'Electrical','Electrical')"
   ]
  },
  {
   "cell_type": "code",
   "execution_count": 91,
   "metadata": {},
   "outputs": [],
   "source": [
    "#1stFlrSF+2ndFlrSF+LowQualFinSF == GrLivArea\n",
    "# scaler=StandardScaler()\n",
    "# Train['1stFlrSF']=scaler.fit_transform(Train['1stFlrSF'].to_numpy().reshape(-1, 1))\n",
    "# Test['1stFlrSF']=scaler.transform(Test['1stFlrSF'].to_numpy().reshape(-1, 1))\n",
    "# scaler=StandardScaler()\n",
    "# Train['2ndFlrSF']=scaler.fit_transform(Train['2ndFlrSF'].to_numpy().reshape(-1, 1))\n",
    "# Test['2ndFlrSF']=scaler.transform(Test['2ndFlrSF'].to_numpy().reshape(-1, 1))\n",
    "# scaler=StandardScaler()\n",
    "# Train['LowQualFinSF']=scaler.fit_transform(Train['LowQualFinSF'].to_numpy().reshape(-1, 1))\n",
    "# Test['LowQualFinSF']=scaler.transform(Test['LowQualFinSF'].to_numpy().reshape(-1, 1))\n",
    "\n",
    "Train=Train.drop(['GrLivArea'],axis=1)\n",
    "Test=Test.drop(['GrLivArea'],axis=1)"
   ]
  },
  {
   "cell_type": "code",
   "execution_count": 92,
   "metadata": {},
   "outputs": [],
   "source": [
    "#BsmtFullBath BsmtHalfBath FullBath HalfBath\n",
    "Test.loc[Test['BsmtFullBath'].isna(),'BsmtFullBath']=Train['BsmtFullBath'].median()\n",
    "Test.loc[Test['BsmtHalfBath'].isna(),'BsmtHalfBath']=Train['BsmtHalfBath'].median()\n",
    "\n",
    "# scaler=StandardScaler()\n",
    "# Train['BsmtFullBath']=scaler.fit_transform(Train['BsmtFullBath'].to_numpy().reshape(-1, 1))\n",
    "# Test['BsmtFullBath']=scaler.transform(Test['BsmtFullBath'].to_numpy().reshape(-1, 1))\n",
    "# scaler=StandardScaler()\n",
    "# Train['BsmtHalfBath']=scaler.fit_transform(Train['BsmtHalfBath'].to_numpy().reshape(-1, 1))\n",
    "# Test['BsmtHalfBath']=scaler.transform(Test['BsmtHalfBath'].to_numpy().reshape(-1, 1))\n",
    "# scaler=StandardScaler()\n",
    "# Train['FullBath']=scaler.fit_transform(Train['FullBath'].to_numpy().reshape(-1, 1))\n",
    "# Test['FullBath']=scaler.transform(Test['FullBath'].to_numpy().reshape(-1, 1))\n",
    "# scaler=StandardScaler()\n",
    "# Train['HalfBath']=scaler.fit_transform(Train['HalfBath'].to_numpy().reshape(-1, 1))\n",
    "# Test['HalfBath']=scaler.transform(Test['HalfBath'].to_numpy().reshape(-1, 1))"
   ]
  },
  {
   "cell_type": "code",
   "execution_count": 93,
   "metadata": {},
   "outputs": [],
   "source": [
    "#Bedroom\n",
    "# scaler=StandardScaler()\n",
    "# Train['BedroomAbvGr']=scaler.fit_transform(Train['BedroomAbvGr'].to_numpy().reshape(-1, 1))\n",
    "# Test['BedroomAbvGr']=scaler.transform(Test['BedroomAbvGr'].to_numpy().reshape(-1, 1))"
   ]
  },
  {
   "cell_type": "code",
   "execution_count": 94,
   "metadata": {},
   "outputs": [],
   "source": [
    "# Kitchen KitchenQual\n",
    "# scaler=StandardScaler()\n",
    "# Train['KitchenAbvGr']=scaler.fit_transform(Train['KitchenAbvGr'].to_numpy().reshape(-1, 1))\n",
    "# Test['KitchenAbvGr']=scaler.transform(Test['KitchenAbvGr'].to_numpy().reshape(-1, 1))\n",
    "Test.loc[Test['KitchenQual'].isna(),'KitchenQual']=Train['KitchenQual'].mode()[0]\n",
    "table=['Po','Fa','TA','Gd','Ex']\n",
    "for i,t in enumerate(table):\n",
    "    Train['KitchenQual']=Train['KitchenQual'].apply(lambda s: i+1 if s==t else s)\n",
    "    Test['KitchenQual']=Test['KitchenQual'].apply(lambda s: i+1 if s==t else s)\n",
    "# scaler=StandardScaler()\n",
    "# Train['KitchenQual']=scaler.fit_transform(Train['KitchenQual'].to_numpy().reshape(-1, 1))\n",
    "# Test['KitchenQual']=scaler.transform(Test['KitchenQual'].to_numpy().reshape(-1, 1))"
   ]
  },
  {
   "cell_type": "code",
   "execution_count": 95,
   "metadata": {},
   "outputs": [],
   "source": [
    "#TotRmsAbvGrd\n",
    "# scaler=StandardScaler()\n",
    "# Train['TotRmsAbvGrd']=scaler.fit_transform(Train['TotRmsAbvGrd'].to_numpy().reshape(-1, 1))\n",
    "# Test['TotRmsAbvGrd']=scaler.transform(Test['TotRmsAbvGrd'].to_numpy().reshape(-1, 1))"
   ]
  },
  {
   "cell_type": "code",
   "execution_count": 96,
   "metadata": {},
   "outputs": [],
   "source": [
    "#Functional\n",
    "Test.loc[Test['Functional'].isna(),'Functional']=Train['Functional'].mode()[0]\n",
    "features=['Typ', 'Min2', 'Min1', 'Mod', 'Maj1', 'Maj2', 'Sev']\n",
    "Train=get_OHE(Train,features,'Functional','Functional')\n",
    "Test=get_OHE(Test,features,'Functional','Functional')"
   ]
  },
  {
   "cell_type": "code",
   "execution_count": 97,
   "metadata": {},
   "outputs": [],
   "source": [
    "#Fireplaces FireplaceQu\n",
    "# scaler=StandardScaler()\n",
    "# Train['Fireplaces']=scaler.fit_transform(Train['Fireplaces'].to_numpy().reshape(-1, 1))\n",
    "# Test['Fireplaces']=scaler.transform(Test['Fireplaces'].to_numpy().reshape(-1, 1))\n",
    "table=['Po','Fa','TA','Gd','Ex']\n",
    "for i,t in enumerate(table):\n",
    "    Train['FireplaceQu']=Train['FireplaceQu'].apply(lambda s: i+1 if s==t else s)\n",
    "    Test['FireplaceQu']=Test['FireplaceQu'].apply(lambda s: i+1 if s==t else s)\n",
    "Train.loc[Train['FireplaceQu'].isna(),'FireplaceQu']=0\n",
    "Test.loc[Test['FireplaceQu'].isna(),'FireplaceQu']=0\n",
    "# scaler=StandardScaler()\n",
    "# Train['FireplaceQu']=scaler.fit_transform(Train['FireplaceQu'].to_numpy().reshape(-1, 1))\n",
    "# Test['FireplaceQu']=scaler.transform(Test['FireplaceQu'].to_numpy().reshape(-1, 1))"
   ]
  },
  {
   "cell_type": "code",
   "execution_count": 98,
   "metadata": {},
   "outputs": [],
   "source": [
    "# GarageType GarageYrBlt GarageFinish GarageCars GarageArea GarageQual GarageCond\n",
    "\n",
    "Test.loc[ (~Test['GarageType'].isna()) & (Test['GarageYrBlt'].isna()) ,'GarageYrBlt']=Train['GarageYrBlt'].median()\n",
    "Test.loc[Test['GarageYrBlt']>2010,'GarageYrBlt']=Train['GarageYrBlt'].median()\n",
    "Test.loc[ (~Test['GarageType'].isna()) & (Test['GarageFinish'].isna()) ,'GarageFinish']=Train['GarageFinish'].mode()[0]\n",
    "Test.loc[ (~Test['GarageType'].isna()) & (Test['GarageCars'].isna()) ,'GarageCars']=Train['GarageCars'].median()\n",
    "Test.loc[ (~Test['GarageType'].isna()) & (Test['GarageArea'].isna()) ,'GarageArea']=Train['GarageArea'].median()\n",
    "Test.loc[ (~Test['GarageType'].isna()) & (Test['GarageQual'].isna()) ,'GarageQual']=Train['GarageQual'].mode()[0]\n",
    "Test.loc[ (~Test['GarageType'].isna()) & (Test['GarageCond'].isna()) ,'GarageCond']=Train['GarageCond'].mode()[0]\n",
    "\n",
    "features=['Attchd', 'Detchd', 'BuiltIn', 'Basment', 'CarPort', '2Types']\n",
    "Train=get_OHE(Train,features,'GarageType','GarageType')\n",
    "Test=get_OHE(Test,features,'GarageType','GarageType')\n",
    "\n",
    "Train.loc[Train['GarageYrBlt'].isna(),'GarageYrBlt']=0\n",
    "Test.loc[Test['GarageYrBlt'].isna(),'GarageYrBlt']=0\n",
    "Train['GarageYrBlt']=2010-Train['GarageYrBlt']\n",
    "Test['GarageYrBlt']=2010-Test['GarageYrBlt']\n",
    "\n",
    "# scaler=StandardScaler()\n",
    "# Train['GarageYrBlt']=scaler.fit_transform(Train['GarageYrBlt'].to_numpy().reshape(-1, 1))\n",
    "# Test['GarageYrBlt']=scaler.transform(Test['GarageYrBlt'].to_numpy().reshape(-1, 1))\n",
    "\n",
    "table=['Unf', 'RFn', 'Fin']\n",
    "for i,t in enumerate(table):\n",
    "    Train['GarageFinish']=Train['GarageFinish'].apply(lambda s: i+1 if s==t else s)\n",
    "    Test['GarageFinish']=Test['GarageFinish'].apply(lambda s: i+1 if s==t else s)\n",
    "Train.loc[Train['GarageFinish'].isna(),'GarageFinish']=0\n",
    "Test.loc[Test['GarageFinish'].isna(),'GarageFinish']=0\n",
    "\n",
    "# scaler=StandardScaler()\n",
    "# Train['GarageFinish']=scaler.fit_transform(Train['GarageFinish'].to_numpy().reshape(-1, 1))\n",
    "# Test['GarageFinish']=scaler.transform(Test['GarageFinish'].to_numpy().reshape(-1, 1))\n",
    "\n",
    "# scaler=StandardScaler()\n",
    "# Train['GarageCars']=scaler.fit_transform(Train['GarageCars'].to_numpy().reshape(-1, 1))\n",
    "# Test['GarageCars']=scaler.transform(Test['GarageCars'].to_numpy().reshape(-1, 1))\n",
    "\n",
    "# scaler=StandardScaler()\n",
    "# Train['GarageArea']=scaler.fit_transform(Train['GarageArea'].to_numpy().reshape(-1, 1))\n",
    "# Test['GarageArea']=scaler.transform(Test['GarageArea'].to_numpy().reshape(-1, 1))\n",
    "\n",
    "table=[ 'Po','Fa', 'TA', 'Gd', 'Ex']\n",
    "for i,t in enumerate(table):\n",
    "    Train['GarageQual']=Train['GarageQual'].apply(lambda s: i+1 if s==t else s)\n",
    "    Train['GarageCond']=Train['GarageCond'].apply(lambda s: i+1 if s==t else s)\n",
    "    Test['GarageQual']=Test['GarageQual'].apply(lambda s: i+1 if s==t else s)\n",
    "    Test['GarageCond']=Test['GarageCond'].apply(lambda s: i+1 if s==t else s)\n",
    "Train.loc[Train['GarageQual'].isna(),'GarageQual']=0\n",
    "Train.loc[Train['GarageCond'].isna(),'GarageCond']=0\n",
    "Test.loc[Test['GarageQual'].isna(),'GarageQual']=0\n",
    "Test.loc[Test['GarageCond'].isna(),'GarageCond']=0\n",
    "# scaler=StandardScaler()\n",
    "# Train['GarageQual']=scaler.fit_transform(Train['GarageQual'].to_numpy().reshape(-1, 1))\n",
    "# Test['GarageQual']=scaler.transform(Test['GarageQual'].to_numpy().reshape(-1, 1))\n",
    "# scaler=StandardScaler()\n",
    "# Train['GarageCond']=scaler.fit_transform(Train['GarageCond'].to_numpy().reshape(-1, 1))\n",
    "# Test['GarageCond']=scaler.transform(Test['GarageCond'].to_numpy().reshape(-1, 1))\n"
   ]
  },
  {
   "cell_type": "code",
   "execution_count": 99,
   "metadata": {},
   "outputs": [],
   "source": [
    "#PavedDrive\n",
    "table=['N', 'P', 'Y']\n",
    "for i,t in enumerate(table):\n",
    "    Train['PavedDrive']=Train['PavedDrive'].apply(lambda s: i+1 if s==t else s)\n",
    "    Test['PavedDrive']=Test['PavedDrive'].apply(lambda s: i+1 if s==t else s)\n",
    "# scaler=StandardScaler()\n",
    "# Train['PavedDrive']=scaler.fit_transform(Train['PavedDrive'].to_numpy().reshape(-1, 1))\n",
    "# Test['PavedDrive']=scaler.transform(Test['PavedDrive'].to_numpy().reshape(-1, 1))    "
   ]
  },
  {
   "cell_type": "code",
   "execution_count": 100,
   "metadata": {},
   "outputs": [],
   "source": [
    "#WoodDeckSF\n",
    "# scaler=StandardScaler()\n",
    "# Train['WoodDeckSF']=scaler.fit_transform(Train['WoodDeckSF'].to_numpy().reshape(-1, 1))\n",
    "# Test['WoodDeckSF']=scaler.transform(Test['WoodDeckSF'].to_numpy().reshape(-1, 1))    "
   ]
  },
  {
   "cell_type": "code",
   "execution_count": 101,
   "metadata": {},
   "outputs": [],
   "source": [
    "# OpenPorchSF EnclosedPorch 3SsnPorch ScreenPorch\n",
    "# scaler=StandardScaler()\n",
    "# Train['OpenPorchSF']=scaler.fit_transform(Train['OpenPorchSF'].to_numpy().reshape(-1, 1))\n",
    "# Test['OpenPorchSF']=scaler.transform(Test['OpenPorchSF'].to_numpy().reshape(-1, 1))    \n",
    "# scaler=StandardScaler()\n",
    "# Train['EnclosedPorch']=scaler.fit_transform(Train['EnclosedPorch'].to_numpy().reshape(-1, 1))\n",
    "# Test['EnclosedPorch']=scaler.transform(Test['EnclosedPorch'].to_numpy().reshape(-1, 1))    \n",
    "# scaler=StandardScaler()\n",
    "# Train['3SsnPorch']=scaler.fit_transform(Train['3SsnPorch'].to_numpy().reshape(-1, 1))\n",
    "# Test['3SsnPorch']=scaler.transform(Test['3SsnPorch'].to_numpy().reshape(-1, 1))    \n",
    "# scaler=StandardScaler()\n",
    "# Train['ScreenPorch']=scaler.fit_transform(Train['ScreenPorch'].to_numpy().reshape(-1, 1))\n",
    "# Test['ScreenPorch']=scaler.transform(Test['ScreenPorch'].to_numpy().reshape(-1, 1))    "
   ]
  },
  {
   "cell_type": "code",
   "execution_count": 102,
   "metadata": {},
   "outputs": [],
   "source": [
    "#PoolQC PoolArea\n",
    "# scaler=StandardScaler()\n",
    "# Train['PoolArea']=scaler.fit_transform(Train['PoolArea'].to_numpy().reshape(-1, 1))\n",
    "# Test['PoolArea']=scaler.transform(Test['PoolArea'].to_numpy().reshape(-1, 1))    \n",
    "table=[ 'Po','Fa', 'TA', 'Gd', 'Ex']\n",
    "for i,t in enumerate(table):\n",
    "    Train['PoolQC']=Train['PoolQC'].apply(lambda s: i+1 if s==t else s)\n",
    "    Test['PoolQC']=Test['PoolQC'].apply(lambda s: i+1 if s==t else s)\n",
    "Train.loc[Train['PoolQC'].isna(),'PoolQC']=0\n",
    "Test.loc[Test['PoolQC'].isna(),'PoolQC']=0\n",
    "# scaler=StandardScaler()\n",
    "# Train['PoolQC']=scaler.fit_transform(Train['PoolQC'].to_numpy().reshape(-1, 1))\n",
    "# Test['PoolQC']=scaler.transform(Test['PoolQC'].to_numpy().reshape(-1, 1))    "
   ]
  },
  {
   "cell_type": "code",
   "execution_count": 103,
   "metadata": {},
   "outputs": [],
   "source": [
    "#Fence\n",
    "features=['MnPrv', 'GdPrv', 'GdWo', 'MnWw']\n",
    "Train=get_OHE(Train,features,'Fence','Fence')\n",
    "Test=get_OHE(Test,features,'Fence','Fence')"
   ]
  },
  {
   "cell_type": "code",
   "execution_count": 104,
   "metadata": {},
   "outputs": [],
   "source": [
    "#MiscFeature MiscVal\n",
    "features=['Shed', 'Othr', 'Gar2', 'TenC']\n",
    "Train=get_OHE(Train,features,'MiscFeature','MiscFeature')\n",
    "Test=get_OHE(Test,features,'MiscFeature','MiscFeature')\n",
    "for f in features:\n",
    "    col='MiscFeature'+'_'+f\n",
    "    Train[col]=Train[col]*Train['MiscVal']\n",
    "    Test[col]=Test[col]*Test['MiscVal']\n",
    "#     scaler=StandardScaler()\n",
    "#     Train[col]=scaler.fit_transform(Train[col].to_numpy().reshape(-1, 1))\n",
    "#     Test[col]=scaler.transform(Test[col].to_numpy().reshape(-1, 1))\n",
    "Train=Train.drop(['MiscVal'],axis=1)\n",
    "Test=Test.drop(['MiscVal'],axis=1)"
   ]
  },
  {
   "cell_type": "code",
   "execution_count": 105,
   "metadata": {},
   "outputs": [],
   "source": [
    "# MoSold YrSold\n",
    "Train['sold']=Train['YrSold']+(Train['MoSold']-1)/12\n",
    "Test['sold']=Test['YrSold']+(Test['MoSold']-1)/12\n",
    "Train=Train.drop(['MoSold','YrSold'],axis=1)\n",
    "Test=Test.drop(['MoSold','YrSold'],axis=1)"
   ]
  },
  {
   "cell_type": "code",
   "execution_count": 106,
   "metadata": {},
   "outputs": [],
   "source": [
    "# SaleType \n",
    "Test.loc[ Test['SaleType'].isna() ,'SaleType']=Train['SaleType'].mode()[0]\n",
    "features=['WD', 'New', 'COD', 'ConLD', 'ConLw', 'ConLI', 'CWD', 'Oth', 'Con']\n",
    "Train=get_OHE(Train,features,'SaleType','SaleType')\n",
    "Test=get_OHE(Test,features,'SaleType','SaleType')"
   ]
  },
  {
   "cell_type": "code",
   "execution_count": 107,
   "metadata": {},
   "outputs": [],
   "source": [
    "# SaleCondition\n",
    "features=['Normal', 'Partial', 'Abnorml', 'Family', 'Alloca', 'AdjLand']\n",
    "Train=get_OHE(Train,features,'SaleCondition','SaleCondition')\n",
    "Test=get_OHE(Test,features,'SaleCondition','SaleCondition')"
   ]
  },
  {
   "cell_type": "code",
   "execution_count": 108,
   "metadata": {},
   "outputs": [],
   "source": [
    "Train=Train.sort_index(axis=1)\n",
    "Test=Test.sort_index(axis=1)"
   ]
  },
  {
   "cell_type": "code",
   "execution_count": 109,
   "metadata": {},
   "outputs": [],
   "source": [
    "Train.to_csv('train_cleaned.csv',index = False)\n",
    "Test.to_csv('test_cleaned.csv',index = False)"
   ]
  },
  {
   "cell_type": "code",
   "execution_count": 5,
   "metadata": {},
   "outputs": [
    {
     "data": {
      "text/plain": [
       "MSSubClass          0\n",
       "MSZoning            0\n",
       "LotFrontage       259\n",
       "LotArea             0\n",
       "Street              0\n",
       "Alley            1369\n",
       "LotShape            0\n",
       "LandContour         0\n",
       "Utilities           0\n",
       "LotConfig           0\n",
       "LandSlope           0\n",
       "Neighborhood        0\n",
       "Condition1          0\n",
       "Condition2          0\n",
       "BldgType            0\n",
       "HouseStyle          0\n",
       "OverallQual         0\n",
       "OverallCond         0\n",
       "YearBuilt           0\n",
       "YearRemodAdd        0\n",
       "RoofStyle           0\n",
       "RoofMatl            0\n",
       "Exterior1st         0\n",
       "Exterior2nd         0\n",
       "MasVnrType          8\n",
       "MasVnrArea          8\n",
       "ExterQual           0\n",
       "ExterCond           0\n",
       "Foundation          0\n",
       "BsmtQual           37\n",
       "BsmtCond           37\n",
       "BsmtExposure       38\n",
       "BsmtFinType1       37\n",
       "BsmtFinSF1          0\n",
       "BsmtFinType2       38\n",
       "BsmtFinSF2          0\n",
       "BsmtUnfSF           0\n",
       "TotalBsmtSF         0\n",
       "Heating             0\n",
       "HeatingQC           0\n",
       "CentralAir          0\n",
       "Electrical          1\n",
       "1stFlrSF            0\n",
       "2ndFlrSF            0\n",
       "LowQualFinSF        0\n",
       "GrLivArea           0\n",
       "BsmtFullBath        0\n",
       "BsmtHalfBath        0\n",
       "FullBath            0\n",
       "HalfBath            0\n",
       "BedroomAbvGr        0\n",
       "KitchenAbvGr        0\n",
       "KitchenQual         0\n",
       "TotRmsAbvGrd        0\n",
       "Functional          0\n",
       "Fireplaces          0\n",
       "FireplaceQu       690\n",
       "GarageType         81\n",
       "GarageYrBlt        81\n",
       "GarageFinish       81\n",
       "GarageCars          0\n",
       "GarageArea          0\n",
       "GarageQual         81\n",
       "GarageCond         81\n",
       "PavedDrive          0\n",
       "WoodDeckSF          0\n",
       "OpenPorchSF         0\n",
       "EnclosedPorch       0\n",
       "3SsnPorch           0\n",
       "ScreenPorch         0\n",
       "PoolArea            0\n",
       "PoolQC           1453\n",
       "Fence            1179\n",
       "MiscFeature      1406\n",
       "MiscVal             0\n",
       "MoSold              0\n",
       "YrSold              0\n",
       "SaleType            0\n",
       "SaleCondition       0\n",
       "SalePrice           0\n",
       "dtype: int64"
      ]
     },
     "execution_count": 5,
     "metadata": {},
     "output_type": "execute_result"
    }
   ],
   "source": [
    "Train.isna().sum()"
   ]
  },
  {
   "cell_type": "code",
   "execution_count": 6,
   "metadata": {},
   "outputs": [
    {
     "data": {
      "text/plain": [
       "Id                  0\n",
       "MSSubClass          0\n",
       "MSZoning            4\n",
       "LotFrontage       227\n",
       "LotArea             0\n",
       "Street              0\n",
       "Alley            1352\n",
       "LotShape            0\n",
       "LandContour         0\n",
       "Utilities           2\n",
       "LotConfig           0\n",
       "LandSlope           0\n",
       "Neighborhood        0\n",
       "Condition1          0\n",
       "Condition2          0\n",
       "BldgType            0\n",
       "HouseStyle          0\n",
       "OverallQual         0\n",
       "OverallCond         0\n",
       "YearBuilt           0\n",
       "YearRemodAdd        0\n",
       "RoofStyle           0\n",
       "RoofMatl            0\n",
       "Exterior1st         1\n",
       "Exterior2nd         1\n",
       "MasVnrType         16\n",
       "MasVnrArea         15\n",
       "ExterQual           0\n",
       "ExterCond           0\n",
       "Foundation          0\n",
       "BsmtQual           44\n",
       "BsmtCond           45\n",
       "BsmtExposure       44\n",
       "BsmtFinType1       42\n",
       "BsmtFinSF1          1\n",
       "BsmtFinType2       42\n",
       "BsmtFinSF2          1\n",
       "BsmtUnfSF           1\n",
       "TotalBsmtSF         1\n",
       "Heating             0\n",
       "HeatingQC           0\n",
       "CentralAir          0\n",
       "Electrical          0\n",
       "1stFlrSF            0\n",
       "2ndFlrSF            0\n",
       "LowQualFinSF        0\n",
       "GrLivArea           0\n",
       "BsmtFullBath        2\n",
       "BsmtHalfBath        2\n",
       "FullBath            0\n",
       "HalfBath            0\n",
       "BedroomAbvGr        0\n",
       "KitchenAbvGr        0\n",
       "KitchenQual         1\n",
       "TotRmsAbvGrd        0\n",
       "Functional          2\n",
       "Fireplaces          0\n",
       "FireplaceQu       730\n",
       "GarageType         76\n",
       "GarageYrBlt        78\n",
       "GarageFinish       78\n",
       "GarageCars          1\n",
       "GarageArea          1\n",
       "GarageQual         78\n",
       "GarageCond         78\n",
       "PavedDrive          0\n",
       "WoodDeckSF          0\n",
       "OpenPorchSF         0\n",
       "EnclosedPorch       0\n",
       "3SsnPorch           0\n",
       "ScreenPorch         0\n",
       "PoolArea            0\n",
       "PoolQC           1456\n",
       "Fence            1169\n",
       "MiscFeature      1408\n",
       "MiscVal             0\n",
       "MoSold              0\n",
       "YrSold              0\n",
       "SaleType            1\n",
       "SaleCondition       0\n",
       "dtype: int64"
      ]
     },
     "execution_count": 6,
     "metadata": {},
     "output_type": "execute_result"
    }
   ],
   "source": [
    "Test.isna().sum()"
   ]
  },
  {
   "cell_type": "code",
   "execution_count": 56,
   "metadata": {},
   "outputs": [],
   "source": [
    "# # Train['OverallCond'].describe()\n",
    "# plt.scatter(Train['YearRemodAdd'],Train['SalePrice'])\n",
    "# plt.show()"
   ]
  },
  {
   "cell_type": "code",
   "execution_count": 57,
   "metadata": {},
   "outputs": [],
   "source": [
    "# med=Train.median()\n",
    "# Train=Train.fillna(med)\n",
    "# Test=Test.fillna(med)\n",
    "# mode=Train['Exterior1st'].mode()[0]\n",
    "# Test['Exterior1st']=Test['Exterior1st'].fillna(mode)\n",
    "# mode=Train['Exterior2nd'].mode()[0]\n",
    "# Test['Exterior2nd']=Test['Exterior2nd'].fillna(mode)"
   ]
  }
 ],
 "metadata": {
  "kernelspec": {
   "display_name": "Python 3",
   "language": "python",
   "name": "python3"
  },
  "language_info": {
   "codemirror_mode": {
    "name": "ipython",
    "version": 3
   },
   "file_extension": ".py",
   "mimetype": "text/x-python",
   "name": "python",
   "nbconvert_exporter": "python",
   "pygments_lexer": "ipython3",
   "version": "3.7.3"
  }
 },
 "nbformat": 4,
 "nbformat_minor": 2
}
